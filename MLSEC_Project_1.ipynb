{
  "nbformat": 4,
  "nbformat_minor": 0,
  "metadata": {
    "colab": {
      "provenance": [],
      "toc_visible": true
    },
    "kernelspec": {
      "name": "python3",
      "display_name": "Python 3"
    },
    "language_info": {
      "name": "python"
    },
    "accelerator": "GPU",
    "gpuClass": "standard",
    "widgets": {
      "application/vnd.jupyter.widget-state+json": {
        "e8beb05239cf4d91afe3e45bed7ce39f": {
          "model_module": "@jupyter-widgets/controls",
          "model_name": "HBoxModel",
          "model_module_version": "1.5.0",
          "state": {
            "_dom_classes": [],
            "_model_module": "@jupyter-widgets/controls",
            "_model_module_version": "1.5.0",
            "_model_name": "HBoxModel",
            "_view_count": null,
            "_view_module": "@jupyter-widgets/controls",
            "_view_module_version": "1.5.0",
            "_view_name": "HBoxView",
            "box_style": "",
            "children": [
              "IPY_MODEL_f40c6a376fc54384aa95b39c43b0065a",
              "IPY_MODEL_7c7827d0700a4142972736a133fd76cf",
              "IPY_MODEL_04f6c4dc8c7540c693d8b7d7f2a29c62"
            ],
            "layout": "IPY_MODEL_c3edb95896004369bd04e8bcdaf4b757"
          }
        },
        "f40c6a376fc54384aa95b39c43b0065a": {
          "model_module": "@jupyter-widgets/controls",
          "model_name": "HTMLModel",
          "model_module_version": "1.5.0",
          "state": {
            "_dom_classes": [],
            "_model_module": "@jupyter-widgets/controls",
            "_model_module_version": "1.5.0",
            "_model_name": "HTMLModel",
            "_view_count": null,
            "_view_module": "@jupyter-widgets/controls",
            "_view_module_version": "1.5.0",
            "_view_name": "HTMLView",
            "description": "",
            "description_tooltip": null,
            "layout": "IPY_MODEL_2de07444a1634b929ef69122d3796f63",
            "placeholder": "​",
            "style": "IPY_MODEL_e7f6709649e54240a24ed3d2b18bc270",
            "value": "100%"
          }
        },
        "7c7827d0700a4142972736a133fd76cf": {
          "model_module": "@jupyter-widgets/controls",
          "model_name": "FloatProgressModel",
          "model_module_version": "1.5.0",
          "state": {
            "_dom_classes": [],
            "_model_module": "@jupyter-widgets/controls",
            "_model_module_version": "1.5.0",
            "_model_name": "FloatProgressModel",
            "_view_count": null,
            "_view_module": "@jupyter-widgets/controls",
            "_view_module_version": "1.5.0",
            "_view_name": "ProgressView",
            "bar_style": "success",
            "description": "",
            "description_tooltip": null,
            "layout": "IPY_MODEL_93e1565af78f4a52bc4ecdb43a3b7da6",
            "max": 170498071,
            "min": 0,
            "orientation": "horizontal",
            "style": "IPY_MODEL_899c287587ed472490c321a8737dc7b8",
            "value": 170498071
          }
        },
        "04f6c4dc8c7540c693d8b7d7f2a29c62": {
          "model_module": "@jupyter-widgets/controls",
          "model_name": "HTMLModel",
          "model_module_version": "1.5.0",
          "state": {
            "_dom_classes": [],
            "_model_module": "@jupyter-widgets/controls",
            "_model_module_version": "1.5.0",
            "_model_name": "HTMLModel",
            "_view_count": null,
            "_view_module": "@jupyter-widgets/controls",
            "_view_module_version": "1.5.0",
            "_view_name": "HTMLView",
            "description": "",
            "description_tooltip": null,
            "layout": "IPY_MODEL_ffd7d737355c46ff8a9f88b888ec8101",
            "placeholder": "​",
            "style": "IPY_MODEL_d84018aa8ea1415cb8fac86f000b6758",
            "value": " 170498071/170498071 [00:14&lt;00:00, 14662189.10it/s]"
          }
        },
        "c3edb95896004369bd04e8bcdaf4b757": {
          "model_module": "@jupyter-widgets/base",
          "model_name": "LayoutModel",
          "model_module_version": "1.2.0",
          "state": {
            "_model_module": "@jupyter-widgets/base",
            "_model_module_version": "1.2.0",
            "_model_name": "LayoutModel",
            "_view_count": null,
            "_view_module": "@jupyter-widgets/base",
            "_view_module_version": "1.2.0",
            "_view_name": "LayoutView",
            "align_content": null,
            "align_items": null,
            "align_self": null,
            "border": null,
            "bottom": null,
            "display": null,
            "flex": null,
            "flex_flow": null,
            "grid_area": null,
            "grid_auto_columns": null,
            "grid_auto_flow": null,
            "grid_auto_rows": null,
            "grid_column": null,
            "grid_gap": null,
            "grid_row": null,
            "grid_template_areas": null,
            "grid_template_columns": null,
            "grid_template_rows": null,
            "height": null,
            "justify_content": null,
            "justify_items": null,
            "left": null,
            "margin": null,
            "max_height": null,
            "max_width": null,
            "min_height": null,
            "min_width": null,
            "object_fit": null,
            "object_position": null,
            "order": null,
            "overflow": null,
            "overflow_x": null,
            "overflow_y": null,
            "padding": null,
            "right": null,
            "top": null,
            "visibility": null,
            "width": null
          }
        },
        "2de07444a1634b929ef69122d3796f63": {
          "model_module": "@jupyter-widgets/base",
          "model_name": "LayoutModel",
          "model_module_version": "1.2.0",
          "state": {
            "_model_module": "@jupyter-widgets/base",
            "_model_module_version": "1.2.0",
            "_model_name": "LayoutModel",
            "_view_count": null,
            "_view_module": "@jupyter-widgets/base",
            "_view_module_version": "1.2.0",
            "_view_name": "LayoutView",
            "align_content": null,
            "align_items": null,
            "align_self": null,
            "border": null,
            "bottom": null,
            "display": null,
            "flex": null,
            "flex_flow": null,
            "grid_area": null,
            "grid_auto_columns": null,
            "grid_auto_flow": null,
            "grid_auto_rows": null,
            "grid_column": null,
            "grid_gap": null,
            "grid_row": null,
            "grid_template_areas": null,
            "grid_template_columns": null,
            "grid_template_rows": null,
            "height": null,
            "justify_content": null,
            "justify_items": null,
            "left": null,
            "margin": null,
            "max_height": null,
            "max_width": null,
            "min_height": null,
            "min_width": null,
            "object_fit": null,
            "object_position": null,
            "order": null,
            "overflow": null,
            "overflow_x": null,
            "overflow_y": null,
            "padding": null,
            "right": null,
            "top": null,
            "visibility": null,
            "width": null
          }
        },
        "e7f6709649e54240a24ed3d2b18bc270": {
          "model_module": "@jupyter-widgets/controls",
          "model_name": "DescriptionStyleModel",
          "model_module_version": "1.5.0",
          "state": {
            "_model_module": "@jupyter-widgets/controls",
            "_model_module_version": "1.5.0",
            "_model_name": "DescriptionStyleModel",
            "_view_count": null,
            "_view_module": "@jupyter-widgets/base",
            "_view_module_version": "1.2.0",
            "_view_name": "StyleView",
            "description_width": ""
          }
        },
        "93e1565af78f4a52bc4ecdb43a3b7da6": {
          "model_module": "@jupyter-widgets/base",
          "model_name": "LayoutModel",
          "model_module_version": "1.2.0",
          "state": {
            "_model_module": "@jupyter-widgets/base",
            "_model_module_version": "1.2.0",
            "_model_name": "LayoutModel",
            "_view_count": null,
            "_view_module": "@jupyter-widgets/base",
            "_view_module_version": "1.2.0",
            "_view_name": "LayoutView",
            "align_content": null,
            "align_items": null,
            "align_self": null,
            "border": null,
            "bottom": null,
            "display": null,
            "flex": null,
            "flex_flow": null,
            "grid_area": null,
            "grid_auto_columns": null,
            "grid_auto_flow": null,
            "grid_auto_rows": null,
            "grid_column": null,
            "grid_gap": null,
            "grid_row": null,
            "grid_template_areas": null,
            "grid_template_columns": null,
            "grid_template_rows": null,
            "height": null,
            "justify_content": null,
            "justify_items": null,
            "left": null,
            "margin": null,
            "max_height": null,
            "max_width": null,
            "min_height": null,
            "min_width": null,
            "object_fit": null,
            "object_position": null,
            "order": null,
            "overflow": null,
            "overflow_x": null,
            "overflow_y": null,
            "padding": null,
            "right": null,
            "top": null,
            "visibility": null,
            "width": null
          }
        },
        "899c287587ed472490c321a8737dc7b8": {
          "model_module": "@jupyter-widgets/controls",
          "model_name": "ProgressStyleModel",
          "model_module_version": "1.5.0",
          "state": {
            "_model_module": "@jupyter-widgets/controls",
            "_model_module_version": "1.5.0",
            "_model_name": "ProgressStyleModel",
            "_view_count": null,
            "_view_module": "@jupyter-widgets/base",
            "_view_module_version": "1.2.0",
            "_view_name": "StyleView",
            "bar_color": null,
            "description_width": ""
          }
        },
        "ffd7d737355c46ff8a9f88b888ec8101": {
          "model_module": "@jupyter-widgets/base",
          "model_name": "LayoutModel",
          "model_module_version": "1.2.0",
          "state": {
            "_model_module": "@jupyter-widgets/base",
            "_model_module_version": "1.2.0",
            "_model_name": "LayoutModel",
            "_view_count": null,
            "_view_module": "@jupyter-widgets/base",
            "_view_module_version": "1.2.0",
            "_view_name": "LayoutView",
            "align_content": null,
            "align_items": null,
            "align_self": null,
            "border": null,
            "bottom": null,
            "display": null,
            "flex": null,
            "flex_flow": null,
            "grid_area": null,
            "grid_auto_columns": null,
            "grid_auto_flow": null,
            "grid_auto_rows": null,
            "grid_column": null,
            "grid_gap": null,
            "grid_row": null,
            "grid_template_areas": null,
            "grid_template_columns": null,
            "grid_template_rows": null,
            "height": null,
            "justify_content": null,
            "justify_items": null,
            "left": null,
            "margin": null,
            "max_height": null,
            "max_width": null,
            "min_height": null,
            "min_width": null,
            "object_fit": null,
            "object_position": null,
            "order": null,
            "overflow": null,
            "overflow_x": null,
            "overflow_y": null,
            "padding": null,
            "right": null,
            "top": null,
            "visibility": null,
            "width": null
          }
        },
        "d84018aa8ea1415cb8fac86f000b6758": {
          "model_module": "@jupyter-widgets/controls",
          "model_name": "DescriptionStyleModel",
          "model_module_version": "1.5.0",
          "state": {
            "_model_module": "@jupyter-widgets/controls",
            "_model_module_version": "1.5.0",
            "_model_name": "DescriptionStyleModel",
            "_view_count": null,
            "_view_module": "@jupyter-widgets/base",
            "_view_module_version": "1.2.0",
            "_view_name": "StyleView",
            "description_width": ""
          }
        }
      }
    }
  },
  "cells": [
    {
      "cell_type": "markdown",
      "source": [
        "# **Project 1** \n",
        "\n",
        "Pick 5 models from RobustBench. Evaluate how accuracy and robustness across classes vary in relationship to the size of the model (i.e., number of parameters).\n"
      ],
      "metadata": {
        "id": "qq6SWalGP7PN"
      }
    },
    {
      "cell_type": "markdown",
      "source": [
        "###Install Robustbench"
      ],
      "metadata": {
        "id": "6id5SJdwQSxH"
      }
    },
    {
      "cell_type": "code",
      "execution_count": 1,
      "metadata": {
        "colab": {
          "base_uri": "https://localhost:8080/"
        },
        "id": "ti38xt5duwk7",
        "outputId": "15169a6f-31ff-4721-d77b-3208faf030c5"
      },
      "outputs": [
        {
          "output_type": "stream",
          "name": "stdout",
          "text": [
            "  Preparing metadata (setup.py) ... \u001b[?25l\u001b[?25hdone\n",
            "  Preparing metadata (setup.py) ... \u001b[?25l\u001b[?25hdone\n",
            "\u001b[2K     \u001b[90m━━━━━━━━━━━━━━━━━━━━━━━━━━━━━━━━━━━━━━━━\u001b[0m \u001b[32m54.8/54.8 KB\u001b[0m \u001b[31m6.0 MB/s\u001b[0m eta \u001b[36m0:00:00\u001b[0m\n",
            "\u001b[2K     \u001b[90m━━━━━━━━━━━━━━━━━━━━━━━━━━━━━━━━━━━━━━\u001b[0m \u001b[32m549.1/549.1 KB\u001b[0m \u001b[31m33.6 MB/s\u001b[0m eta \u001b[36m0:00:00\u001b[0m\n",
            "\u001b[2K     \u001b[90m━━━━━━━━━━━━━━━━━━━━━━━━━━━━━━━━━━━━━━\u001b[0m \u001b[32m199.1/199.1 KB\u001b[0m \u001b[31m10.8 MB/s\u001b[0m eta \u001b[36m0:00:00\u001b[0m\n",
            "\u001b[?25h  Building wheel for robustbench (setup.py) ... \u001b[?25l\u001b[?25hdone\n",
            "  Building wheel for autoattack (setup.py) ... \u001b[?25l\u001b[?25hdone\n"
          ]
        }
      ],
      "source": [
        "import warnings\n",
        "warnings.filterwarnings('ignore')\n",
        "!pip install -q git+https://github.com/RobustBench/robustbench.git@2d630bc9e8d1cf50d46a4dda65fd36850e3ef769"
      ]
    },
    {
      "cell_type": "markdown",
      "source": [
        "###Load Dataset and Model"
      ],
      "metadata": {
        "id": "GMYKEohoQ5aa"
      }
    },
    {
      "cell_type": "code",
      "source": [
        "from robustbench.data import load_cifar10\n",
        "x_test, y_test = load_cifar10(n_examples=100)\n",
        "\n",
        "from robustbench.utils import load_model\n",
        "model = load_model(model_name='Sehwag2021Proxy_R18', threat_model='Linf')\n"
      ],
      "metadata": {
        "colab": {
          "base_uri": "https://localhost:8080/",
          "height": 118,
          "referenced_widgets": [
            "e8beb05239cf4d91afe3e45bed7ce39f",
            "f40c6a376fc54384aa95b39c43b0065a",
            "7c7827d0700a4142972736a133fd76cf",
            "04f6c4dc8c7540c693d8b7d7f2a29c62",
            "c3edb95896004369bd04e8bcdaf4b757",
            "2de07444a1634b929ef69122d3796f63",
            "e7f6709649e54240a24ed3d2b18bc270",
            "93e1565af78f4a52bc4ecdb43a3b7da6",
            "899c287587ed472490c321a8737dc7b8",
            "ffd7d737355c46ff8a9f88b888ec8101",
            "d84018aa8ea1415cb8fac86f000b6758"
          ]
        },
        "id": "lrCL3KqNHb5t",
        "outputId": "da5a23c6-230c-484f-fcc2-781992ac63af"
      },
      "execution_count": 2,
      "outputs": [
        {
          "output_type": "stream",
          "name": "stdout",
          "text": [
            "Downloading https://www.cs.toronto.edu/~kriz/cifar-10-python.tar.gz to ./data/cifar-10-python.tar.gz\n"
          ]
        },
        {
          "output_type": "display_data",
          "data": {
            "text/plain": [
              "  0%|          | 0/170498071 [00:00<?, ?it/s]"
            ],
            "application/vnd.jupyter.widget-view+json": {
              "version_major": 2,
              "version_minor": 0,
              "model_id": "e8beb05239cf4d91afe3e45bed7ce39f"
            }
          },
          "metadata": {}
        },
        {
          "output_type": "stream",
          "name": "stdout",
          "text": [
            "Extracting ./data/cifar-10-python.tar.gz to ./data\n",
            "Download started: path=models/cifar10/Linf/Sehwag2021Proxy_R18.pt (gdrive_id=1-ZgoSlD_AMhtXdnUElilxVXnzK2DcHuu)\n",
            "Download finished: path=models/cifar10/Linf/Sehwag2021Proxy_R18.pt (gdrive_id=1-ZgoSlD_AMhtXdnUElilxVXnzK2DcHuu)\n"
          ]
        }
      ]
    },
    {
      "cell_type": "code",
      "source": [
        "model.to('cuda:0')\n",
        "x_test.to('cuda:0')\n",
        "y_test.to('cuda:0')"
      ],
      "metadata": {
        "colab": {
          "base_uri": "https://localhost:8080/"
        },
        "id": "Vjqo_Mq8OXlu",
        "outputId": "db3801a2-9025-4270-84e4-1d510ac3748c"
      },
      "execution_count": 3,
      "outputs": [
        {
          "output_type": "execute_result",
          "data": {
            "text/plain": [
              "tensor([3, 8, 8, 0, 6, 6, 1, 6, 3, 1, 0, 9, 5, 7, 9, 8, 5, 7, 8, 6, 7, 0, 4, 9,\n",
              "        5, 2, 4, 0, 9, 6, 6, 5, 4, 5, 9, 2, 4, 1, 9, 5, 4, 6, 5, 6, 0, 9, 3, 9,\n",
              "        7, 6, 9, 8, 0, 3, 8, 8, 7, 7, 4, 6, 7, 3, 6, 3, 6, 2, 1, 2, 3, 7, 2, 6,\n",
              "        8, 8, 0, 2, 9, 3, 3, 8, 8, 1, 1, 7, 2, 5, 2, 7, 8, 9, 0, 3, 8, 6, 4, 6,\n",
              "        6, 0, 0, 7], device='cuda:0')"
            ]
          },
          "metadata": {},
          "execution_count": 3
        }
      ]
    },
    {
      "cell_type": "code",
      "source": [
        "for i in range (10):\n",
        "\n",
        "  class_indices = (y_test == i)\n",
        "  x_class = x_test[class_indices].to('cuda:0')\n",
        "  y_class = y_test[class_indices].to('cuda:0')\n",
        "  print (\"data for class /n \",i)\n",
        "  print(len(y_class))"
      ],
      "metadata": {
        "colab": {
          "base_uri": "https://localhost:8080/"
        },
        "id": "29Ffz5qyOJH_",
        "outputId": "06821278-c033-490e-d345-3ae701b62519"
      },
      "execution_count": 4,
      "outputs": [
        {
          "output_type": "stream",
          "name": "stdout",
          "text": [
            "data for class /n  0\n",
            "10\n",
            "data for class /n  1\n",
            "6\n",
            "data for class /n  2\n",
            "8\n",
            "data for class /n  3\n",
            "10\n",
            "data for class /n  4\n",
            "7\n",
            "data for class /n  5\n",
            "8\n",
            "data for class /n  6\n",
            "16\n",
            "data for class /n  7\n",
            "11\n",
            "data for class /n  8\n",
            "13\n",
            "data for class /n  9\n",
            "11\n"
          ]
        }
      ]
    },
    {
      "cell_type": "code",
      "source": [
        "import torch\n",
        "torch.cuda.empty_cache()"
      ],
      "metadata": {
        "id": "sA-p_BgiZ9rV"
      },
      "execution_count": 5,
      "outputs": []
    },
    {
      "cell_type": "markdown",
      "source": [
        "###Install AutoAttack"
      ],
      "metadata": {
        "id": "vFUz-El9RIok"
      }
    },
    {
      "cell_type": "code",
      "source": [
        "!pip install -q git+https://github.com/fra31/auto-attack\n",
        "from autoattack import AutoAttack"
      ],
      "metadata": {
        "colab": {
          "base_uri": "https://localhost:8080/"
        },
        "id": "mUwu110KSisJ",
        "outputId": "cb3f6846-5712-49fe-9435-81a9e7c15ac1"
      },
      "execution_count": 6,
      "outputs": [
        {
          "output_type": "stream",
          "name": "stdout",
          "text": [
            "  Preparing metadata (setup.py) ... \u001b[?25l\u001b[?25hdone\n"
          ]
        }
      ]
    },
    {
      "cell_type": "markdown",
      "source": [
        "## Accuracy Evaluation Total Model"
      ],
      "metadata": {
        "id": "oELEPch3SzJy"
      }
    },
    {
      "cell_type": "code",
      "source": [
        "adversary = AutoAttack(model, norm='Linf', eps=8/255, version='custom', attacks_to_run=['apgd-ce', 'apgd-dlr'])\n",
        "\n",
        "#adversary = AutoAttack(model, norm='Linf', eps=8/255, version='standard')\n",
        "\n",
        "#adversary = AutoAttack(model, norm='Linf', eps=8/255, version='custom', attacks_to_run=['fab-t', 'square'])\n",
        "\n",
        "adversary.apgd.n_restarts = 1\n",
        "x_adv = adversary.run_standard_evaluation(x_test, y_test)"
      ],
      "metadata": {
        "colab": {
          "base_uri": "https://localhost:8080/"
        },
        "id": "fHP9MTO-Hemx",
        "outputId": "950cc7c7-d70f-4a02-d569-8c9780231a13"
      },
      "execution_count": 7,
      "outputs": [
        {
          "output_type": "stream",
          "name": "stdout",
          "text": [
            "using custom version including apgd-ce, apgd-dlr.\n"
          ]
        },
        {
          "output_type": "stream",
          "name": "stderr",
          "text": [
            "\n",
            "PYDEV DEBUGGER WARNING:\n",
            "sys.settrace() should not be used when the debugger is being used.\n",
            "This may cause the debugger to stop working correctly.\n",
            "If this is needed, please check: \n",
            "http://pydev.blogspot.com/2007/06/why-cant-pydev-debugger-work-with.html\n",
            "to see how to restore the debug tracing back correctly.\n",
            "Call Location:\n",
            "  File \"/usr/local/lib/python3.8/dist-packages/autoattack/checks.py\", line 100, in check_dynamic\n",
            "    sys.settrace(tracefunc)\n",
            "\n",
            "\n",
            "PYDEV DEBUGGER WARNING:\n",
            "sys.settrace() should not be used when the debugger is being used.\n",
            "This may cause the debugger to stop working correctly.\n",
            "If this is needed, please check: \n",
            "http://pydev.blogspot.com/2007/06/why-cant-pydev-debugger-work-with.html\n",
            "to see how to restore the debug tracing back correctly.\n",
            "Call Location:\n",
            "  File \"/usr/local/lib/python3.8/dist-packages/autoattack/checks.py\", line 102, in check_dynamic\n",
            "    sys.settrace(None)\n",
            "\n"
          ]
        },
        {
          "output_type": "stream",
          "name": "stdout",
          "text": [
            "initial accuracy: 87.00%\n",
            "apgd-ce - 1/1 - 29 out of 87 successfully perturbed\n",
            "robust accuracy after APGD-CE: 58.00% (total time 5.5 s)\n",
            "apgd-dlr - 1/1 - 4 out of 58 successfully perturbed\n",
            "robust accuracy after APGD-DLR: 54.00% (total time 9.1 s)\n",
            "max Linf perturbation: 0.03137, nan in tensor: 0, max: 1.00000, min: 0.00000\n",
            "robust accuracy: 54.00%\n"
          ]
        }
      ]
    },
    {
      "cell_type": "markdown",
      "source": [
        "##Accuracy Evaluation per class"
      ],
      "metadata": {
        "id": "rhyWdn_hUIcT"
      }
    },
    {
      "cell_type": "code",
      "source": [
        "#import torch\n",
        "\n",
        "num_classes = 10\n",
        "\n",
        "print(\"General Robustness \\n \")\n",
        "\n",
        "new_adversary = AutoAttack(model, norm='Linf', eps=8/255, version='custom', attacks_to_run=['apgd-ce', 'apgd-dlr'])\n",
        "#new_adversary = AutoAttack(model, norm='Linf', eps=8/255, version='custom', attacks_to_run=['fab-t', 'square'])\n",
        "new_adversary.apgd.n_restarts = 1\n",
        "for i in range (num_classes):\n",
        "\n",
        "  class_indices = (y_test == i)\n",
        "  x_class = x_test[class_indices].to('cuda:0')\n",
        "  y_class = y_test[class_indices].to('cuda:0')\n",
        "  print (\"Robustness for class  \",i)\n",
        "  x_adv = new_adversary.run_standard_evaluation(x_class, y_class)\n",
        "  print(\"##################### /n\")"
      ],
      "metadata": {
        "colab": {
          "base_uri": "https://localhost:8080/"
        },
        "id": "ZXW007Saied0",
        "outputId": "fa5923da-a323-4f40-e2ea-5c8dcea4b34c"
      },
      "execution_count": 8,
      "outputs": [
        {
          "output_type": "stream",
          "name": "stdout",
          "text": [
            "General Robustness \n",
            " \n",
            "Robustness for class   0\n",
            "using custom version including apgd-ce, apgd-dlr.\n",
            "initial accuracy: 90.00%\n",
            "apgd-ce - 1/1 - 2 out of 9 successfully perturbed\n",
            "robust accuracy after APGD-CE: 70.00% (total time 1.1 s)\n",
            "apgd-dlr - 1/1 - 0 out of 7 successfully perturbed\n",
            "robust accuracy after APGD-DLR: 70.00% (total time 2.1 s)\n",
            "max Linf perturbation: 0.03137, nan in tensor: 0, max: 1.00000, min: 0.00000\n",
            "robust accuracy: 70.00%\n",
            "##################### /n\n",
            "Robustness for class   1\n",
            "using custom version including apgd-ce, apgd-dlr.\n",
            "initial accuracy: 83.33%\n",
            "apgd-ce - 1/1 - 4 out of 5 successfully perturbed\n",
            "robust accuracy after APGD-CE: 16.67% (total time 0.9 s)\n",
            "apgd-dlr - 1/1 - 0 out of 1 successfully perturbed\n",
            "robust accuracy after APGD-DLR: 16.67% (total time 2.7 s)\n",
            "max Linf perturbation: 0.03137, nan in tensor: 0, max: 1.00000, min: 0.00000\n",
            "robust accuracy: 16.67%\n",
            "##################### /n\n",
            "Robustness for class   2\n",
            "using custom version including apgd-ce, apgd-dlr.\n",
            "initial accuracy: 75.00%\n",
            "apgd-ce - 1/1 - 3 out of 6 successfully perturbed\n",
            "robust accuracy after APGD-CE: 37.50% (total time 2.5 s)\n",
            "apgd-dlr - 1/1 - 0 out of 3 successfully perturbed\n",
            "robust accuracy after APGD-DLR: 37.50% (total time 4.0 s)\n",
            "max Linf perturbation: 0.03137, nan in tensor: 0, max: 1.00000, min: 0.00000\n",
            "robust accuracy: 37.50%\n",
            "##################### /n\n",
            "Robustness for class   3\n",
            "using custom version including apgd-ce, apgd-dlr.\n",
            "initial accuracy: 90.00%\n",
            "apgd-ce - 1/1 - 6 out of 9 successfully perturbed\n",
            "robust accuracy after APGD-CE: 30.00% (total time 1.0 s)\n",
            "apgd-dlr - 1/1 - 1 out of 3 successfully perturbed\n",
            "robust accuracy after APGD-DLR: 20.00% (total time 1.8 s)\n",
            "max Linf perturbation: 0.03137, nan in tensor: 0, max: 1.00000, min: 0.00000\n",
            "robust accuracy: 20.00%\n",
            "##################### /n\n",
            "Robustness for class   4\n",
            "using custom version including apgd-ce, apgd-dlr.\n",
            "initial accuracy: 57.14%\n",
            "apgd-ce - 1/1 - 2 out of 4 successfully perturbed\n",
            "robust accuracy after APGD-CE: 28.57% (total time 0.7 s)\n",
            "apgd-dlr - 1/1 - 1 out of 2 successfully perturbed\n",
            "robust accuracy after APGD-DLR: 14.29% (total time 1.5 s)\n",
            "max Linf perturbation: 0.03137, nan in tensor: 0, max: 1.00000, min: 0.00000\n",
            "robust accuracy: 14.29%\n",
            "##################### /n\n",
            "Robustness for class   5\n",
            "using custom version including apgd-ce, apgd-dlr.\n",
            "initial accuracy: 62.50%\n",
            "apgd-ce - 1/1 - 2 out of 5 successfully perturbed\n",
            "robust accuracy after APGD-CE: 37.50% (total time 0.8 s)\n",
            "apgd-dlr - 1/1 - 0 out of 3 successfully perturbed\n",
            "robust accuracy after APGD-DLR: 37.50% (total time 1.6 s)\n",
            "max Linf perturbation: 0.03137, nan in tensor: 0, max: 1.00000, min: 0.00000\n",
            "robust accuracy: 37.50%\n",
            "##################### /n\n",
            "Robustness for class   6\n",
            "using custom version including apgd-ce, apgd-dlr.\n",
            "initial accuracy: 93.75%\n",
            "apgd-ce - 1/1 - 6 out of 15 successfully perturbed\n",
            "robust accuracy after APGD-CE: 56.25% (total time 1.3 s)\n",
            "apgd-dlr - 1/1 - 0 out of 9 successfully perturbed\n",
            "robust accuracy after APGD-DLR: 56.25% (total time 2.4 s)\n",
            "max Linf perturbation: 0.03137, nan in tensor: 0, max: 1.00000, min: 0.00000\n",
            "robust accuracy: 56.25%\n",
            "##################### /n\n",
            "Robustness for class   7\n",
            "using custom version including apgd-ce, apgd-dlr.\n",
            "initial accuracy: 90.91%\n",
            "apgd-ce - 1/1 - 4 out of 10 successfully perturbed\n",
            "robust accuracy after APGD-CE: 54.55% (total time 1.1 s)\n",
            "apgd-dlr - 1/1 - 0 out of 6 successfully perturbed\n",
            "robust accuracy after APGD-DLR: 54.55% (total time 2.2 s)\n",
            "max Linf perturbation: 0.03137, nan in tensor: 0, max: 1.00000, min: 0.00000\n",
            "robust accuracy: 54.55%\n",
            "##################### /n\n",
            "Robustness for class   8\n",
            "using custom version including apgd-ce, apgd-dlr.\n",
            "initial accuracy: 100.00%\n",
            "apgd-ce - 1/1 - 1 out of 13 successfully perturbed\n",
            "robust accuracy after APGD-CE: 92.31% (total time 1.2 s)\n",
            "apgd-dlr - 1/1 - 0 out of 12 successfully perturbed\n",
            "robust accuracy after APGD-DLR: 92.31% (total time 2.6 s)\n",
            "max Linf perturbation: 0.03137, nan in tensor: 0, max: 1.00000, min: 0.00000\n",
            "robust accuracy: 92.31%\n",
            "##################### /n\n",
            "Robustness for class   9\n",
            "using custom version including apgd-ce, apgd-dlr.\n",
            "initial accuracy: 100.00%\n",
            "apgd-ce - 1/1 - 1 out of 11 successfully perturbed\n",
            "robust accuracy after APGD-CE: 90.91% (total time 1.1 s)\n",
            "apgd-dlr - 1/1 - 0 out of 10 successfully perturbed\n",
            "robust accuracy after APGD-DLR: 90.91% (total time 2.2 s)\n",
            "max Linf perturbation: 0.03137, nan in tensor: 0, max: 1.00000, min: 0.00000\n",
            "robust accuracy: 90.91%\n",
            "##################### /n\n"
          ]
        }
      ]
    }
  ]
}